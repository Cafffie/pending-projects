{
 "cells": [
  {
   "cell_type": "code",
   "execution_count": null,
   "id": "9eca4466",
   "metadata": {},
   "outputs": [],
   "source": [
    "#pip install transformers"
   ]
  },
  {
   "cell_type": "code",
   "execution_count": null,
   "id": "4c1bceaf",
   "metadata": {},
   "outputs": [],
   "source": [
    "from transformers import pipeline\n",
    "\n",
    "# Load pre-trained sentiment analysis model\n",
    "sentiment_classifier = pipeline('sentiment-analysis')\n",
    "\n",
    "# Example usage\n",
    "sentence = \"I really enjoyed the movie, it was fantastic!\"\n",
    "result = sentiment_classifier(sentence)\n",
    "\n",
    "# Display sentiment classification result\n",
    "label = result[0]['label']\n",
    "confidence = result[0]['score']\n",
    "\n",
    "print(f\"Sentence: {sentence}\")\n",
    "print(f\"Sentiment: {label}, Confidence: {confidence:.4f}\")"
   ]
  }
 ],
 "metadata": {
  "kernelspec": {
   "display_name": "Python 3 (ipykernel)",
   "language": "python",
   "name": "python3"
  },
  "language_info": {
   "codemirror_mode": {
    "name": "ipython",
    "version": 3
   },
   "file_extension": ".py",
   "mimetype": "text/x-python",
   "name": "python",
   "nbconvert_exporter": "python",
   "pygments_lexer": "ipython3",
   "version": "3.11.5"
  }
 },
 "nbformat": 4,
 "nbformat_minor": 5
}
