{
 "cells": [
  {
   "cell_type": "code",
   "execution_count": null,
   "id": "eb945ec4",
   "metadata": {},
   "outputs": [],
   "source": [
    "# Install required libraries\n",
    "# pip install opencv-python face_recognition"
   ]
  },
  {
   "cell_type": "code",
   "execution_count": null,
   "id": "a978ba48",
   "metadata": {},
   "outputs": [],
   "source": [
    "import cv2\n",
    "import face_recognition"
   ]
  },
  {
   "cell_type": "code",
   "execution_count": null,
   "id": "0f58165a",
   "metadata": {},
   "outputs": [],
   "source": [
    "# Load images and encode faces\n",
    "def load_images_and_encode():\n",
    "    # Replace 'path_to_image' with the actual path to your dataset\n",
    "    image_of_person1 = face_recognition.load_image_file(\"path_to_image/person1.jpg\")\n",
    "    image_of_person2 = face_recognition.load_image_file(\"path_to_image/person2.jpg\")\n",
    "\n",
    "    # Encode faces\n",
    "    encoding_person1 = face_recognition.face_encodings(image_of_person1)[0]\n",
    "    encoding_person2 = face_recognition.face_encodings(image_of_person2)[0]\n",
    "\n",
    "    return [(encoding_person1, \"Person 1\"), (encoding_person2, \"Person 2\")]\n"
   ]
  },
  {
   "cell_type": "code",
   "execution_count": null,
   "id": "e45f8029",
   "metadata": {},
   "outputs": [],
   "source": [
    "# Recognize faces in the video stream\n",
    "def recognize_faces(video_capture, known_faces):\n",
    "    while True:\n",
    "        # Capture video frame-by-frame\n",
    "        ret, frame = video_capture.read()\n",
    "\n",
    "        # Find face locations and face encodings\n",
    "        face_locations = face_recognition.face_locations(frame)\n",
    "        face_encodings = face_recognition.face_encodings(frame, face_locations)\n",
    "\n",
    "        # Loop through each face in the frame\n",
    "        for (top, right, bottom, left), face_encoding in zip(face_locations, face_encodings):\n",
    "            # Check if the face matches any known faces\n",
    "            matches = face_recognition.compare_faces([face[0] for face in known_faces], face_encoding)\n",
    "\n",
    "            name = \"Unknown\"\n",
    "\n",
    "            # If a match is found, use the name of the known face\n",
    "            if True in matches:\n",
    "                first_match_index = matches.index(True)\n",
    "                name = known_faces[first_match_index][1]\n",
    "\n",
    "            # Draw a rectangle and label on the frame\n",
    "            cv2.rectangle(frame, (left, top), (right, bottom), (0, 255, 0), 2)\n",
    "            font = cv2.FONT_HERSHEY_DUPLEX\n",
    "            cv2.putText(frame, name, (left + 6, bottom - 6), font, 0.5, (255, 255, 255), 1)\n",
    "\n",
    "        # Display the resulting frame\n",
    "        cv2.imshow(\"Video\", frame)\n",
    "\n",
    "        # Break the loop if 'q' key is pressed\n",
    "        if cv2.waitKey(1) & 0xFF == ord('q'):\n",
    "            break\n",
    "\n",
    "    # Release the video capture object\n",
    "    video_capture.release()\n",
    "    cv2.destroyAllWindows()\n"
   ]
  },
  {
   "cell_type": "code",
   "execution_count": null,
   "id": "cce065e5",
   "metadata": {},
   "outputs": [],
   "source": [
    "def main():\n",
    "    # Load known faces and their encodings\n",
    "    known_faces = load_images_and_encode()\n",
    "\n",
    "    # Open a video capture object (you can replace 0 with the video file path)\n",
    "    video_capture = cv2.VideoCapture(0)\n",
    "\n",
    "    # Start face recognition\n",
    "    recognize_faces(video_capture, known_faces)\n"
   ]
  },
  {
   "cell_type": "code",
   "execution_count": null,
   "id": "6a2e2b75",
   "metadata": {},
   "outputs": [],
   "source": [
    "if __name__ == \"__main__\":\n",
    "    main()"
   ]
  },
  {
   "cell_type": "code",
   "execution_count": null,
   "id": "617771ae",
   "metadata": {},
   "outputs": [],
   "source": []
  },
  {
   "cell_type": "code",
   "execution_count": null,
   "id": "db250710",
   "metadata": {},
   "outputs": [],
   "source": []
  },
  {
   "cell_type": "code",
   "execution_count": null,
   "id": "5f1a6cea",
   "metadata": {},
   "outputs": [],
   "source": []
  }
 ],
 "metadata": {
  "kernelspec": {
   "display_name": "Python 3 (ipykernel)",
   "language": "python",
   "name": "python3"
  },
  "language_info": {
   "codemirror_mode": {
    "name": "ipython",
    "version": 3
   },
   "file_extension": ".py",
   "mimetype": "text/x-python",
   "name": "python",
   "nbconvert_exporter": "python",
   "pygments_lexer": "ipython3",
   "version": "3.11.5"
  }
 },
 "nbformat": 4,
 "nbformat_minor": 5
}
