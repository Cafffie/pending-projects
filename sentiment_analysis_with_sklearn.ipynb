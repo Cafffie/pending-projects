{
 "cells": [
  {
   "cell_type": "code",
   "execution_count": null,
   "id": "26a6b662",
   "metadata": {},
   "outputs": [],
   "source": [
    "# Install required libraries\n",
    "# pip install scikit-learn pandas\n",
    "\n",
    "import pandas as pd\n",
    "from sklearn.model_selection import train_test_split\n",
    "from sklearn.feature_extraction.text import TfidfVectorizer\n",
    "from sklearn.naive_bayes import MultinomialNB\n",
    "from sklearn.metrics import accuracy_score, classification_report\n",
    "\n",
    "# Load a sample dataset (replace with your own dataset)\n",
    "# The dataset should have columns 'text' and 'sentiment'\n",
    "# 'sentiment' should contain labels like 'positive', 'negative', or 'neutral'\n",
    "data = pd.DataFrame({\n",
    "    'text': [\"I love this product!\", \"Not a fan of the service.\", \"Neutral comment here.\"],\n",
    "    'sentiment': [\"positive\", \"negative\", \"neutral\"]\n",
    "})\n",
    "\n",
    "# Split the dataset into training and testing sets\n",
    "train_data, test_data = train_test_split(data, test_size=0.2, random_state=42)\n",
    "\n",
    "# TF-IDF Vectorization\n",
    "tfidf_vectorizer = TfidfVectorizer(stop_words='english', max_features=5000)\n",
    "X_train_tfidf = tfidf_vectorizer.fit_transform(train_data['text'])\n",
    "X_test_tfidf = tfidf_vectorizer.transform(test_data['text'])\n",
    "\n",
    "# Model Training (Naive Bayes classifier)\n",
    "model = MultinomialNB()\n",
    "model.fit(X_train_tfidf, train_data['sentiment'])\n",
    "\n",
    "# Predictions\n",
    "predictions = model.predict(X_test_tfidf)\n",
    "\n",
    "# Evaluate the model\n",
    "accuracy = accuracy_score(test_data['sentiment'], predictions)\n",
    "report = classification_report(test_data['sentiment'], predictions)\n",
    "\n",
    "print(f\"Accuracy: {accuracy}\")\n",
    "print(\"Classification Report:\\n\", report)\n",
    "\n",
    "# Example of making a prediction\n",
    "new_text = \"This movie is fantastic!\"\n",
    "new_text_tfidf = tfidf_vectorizer.transform([new_text])\n",
    "prediction_new_text = model.predict(new_text_tfidf)[0]\n",
    "print(f\"Predicted sentiment for '{new_text}': {prediction_new_text}\")"
   ]
  }
 ],
 "metadata": {
  "kernelspec": {
   "display_name": "Python 3 (ipykernel)",
   "language": "python",
   "name": "python3"
  },
  "language_info": {
   "codemirror_mode": {
    "name": "ipython",
    "version": 3
   },
   "file_extension": ".py",
   "mimetype": "text/x-python",
   "name": "python",
   "nbconvert_exporter": "python",
   "pygments_lexer": "ipython3",
   "version": "3.11.5"
  }
 },
 "nbformat": 4,
 "nbformat_minor": 5
}
